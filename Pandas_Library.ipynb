{
  "nbformat": 4,
  "nbformat_minor": 0,
  "metadata": {
    "colab": {
      "provenance": [],
      "authorship_tag": "ABX9TyPqbWe1XNE4KJqc9bSKhAWb",
      "include_colab_link": true
    },
    "kernelspec": {
      "name": "python3",
      "display_name": "Python 3"
    },
    "language_info": {
      "name": "python"
    }
  },
  "cells": [
    {
      "cell_type": "markdown",
      "metadata": {
        "id": "view-in-github",
        "colab_type": "text"
      },
      "source": [
        "<a href=\"https://colab.research.google.com/github/leilaamani/Machine-learning/blob/main/Pandas_Library.ipynb\" target=\"_parent\"><img src=\"https://colab.research.google.com/assets/colab-badge.svg\" alt=\"Open In Colab\"/></a>"
      ]
    },
    {
      "cell_type": "code",
      "execution_count": 1,
      "metadata": {
        "id": "xriXcKdSqb_u"
      },
      "outputs": [],
      "source": [
        "import numpy as np\n",
        "import pandas as pd"
      ]
    },
    {
      "cell_type": "markdown",
      "source": [
        "# **Series**"
      ],
      "metadata": {
        "id": "SPdjR_USsnDg"
      }
    },
    {
      "cell_type": "code",
      "source": [
        "age = pd.Series(data=[19,20,20,22,23],index=['Reza','Leila','Zahra','Akbar','Amir'],dtype=np.int8)\n",
        "age"
      ],
      "metadata": {
        "colab": {
          "base_uri": "https://localhost:8080/"
        },
        "id": "laFOdQqtsqtb",
        "outputId": "45ddf3f6-696b-4a51-a7a2-6947154c181d"
      },
      "execution_count": 2,
      "outputs": [
        {
          "output_type": "execute_result",
          "data": {
            "text/plain": [
              "Reza     19\n",
              "Leila    20\n",
              "Zahra    20\n",
              "Akbar    22\n",
              "Amir     23\n",
              "dtype: int8"
            ]
          },
          "metadata": {},
          "execution_count": 2
        }
      ]
    },
    {
      "cell_type": "code",
      "source": [
        "age.name='Age of student'\n",
        "age"
      ],
      "metadata": {
        "colab": {
          "base_uri": "https://localhost:8080/"
        },
        "id": "-tA6XsvaKaUT",
        "outputId": "7e598d97-99b5-4636-ca78-8d1a15b97c41"
      },
      "execution_count": 4,
      "outputs": [
        {
          "output_type": "execute_result",
          "data": {
            "text/plain": [
              "Reza     19\n",
              "Leila    20\n",
              "Zahra    20\n",
              "Akbar    22\n",
              "Amir     23\n",
              "Name: Age of student, dtype: int8"
            ]
          },
          "metadata": {},
          "execution_count": 4
        }
      ]
    },
    {
      "cell_type": "code",
      "source": [
        "age.values"
      ],
      "metadata": {
        "colab": {
          "base_uri": "https://localhost:8080/"
        },
        "id": "XhSKPdUHKXkK",
        "outputId": "16479297-fa85-4e01-e947-553d81bfc102"
      },
      "execution_count": 5,
      "outputs": [
        {
          "output_type": "execute_result",
          "data": {
            "text/plain": [
              "array([19, 20, 20, 22, 23], dtype=int8)"
            ]
          },
          "metadata": {},
          "execution_count": 5
        }
      ]
    },
    {
      "cell_type": "code",
      "source": [
        "age.value_counts()"
      ],
      "metadata": {
        "colab": {
          "base_uri": "https://localhost:8080/"
        },
        "id": "mTWYkSouKYXJ",
        "outputId": "88351593-4204-45f4-d411-d8df250e99f4"
      },
      "execution_count": 6,
      "outputs": [
        {
          "output_type": "execute_result",
          "data": {
            "text/plain": [
              "20    2\n",
              "19    1\n",
              "22    1\n",
              "23    1\n",
              "Name: Age of student, dtype: int64"
            ]
          },
          "metadata": {},
          "execution_count": 6
        }
      ]
    },
    {
      "cell_type": "code",
      "source": [
        "age.index"
      ],
      "metadata": {
        "colab": {
          "base_uri": "https://localhost:8080/"
        },
        "id": "SkV4KcJkKYhd",
        "outputId": "4a40981b-52b2-49bf-fccd-179bfce25dbc"
      },
      "execution_count": 7,
      "outputs": [
        {
          "output_type": "execute_result",
          "data": {
            "text/plain": [
              "Index(['Reza', 'Leila', 'Zahra', 'Akbar', 'Amir'], dtype='object')"
            ]
          },
          "metadata": {},
          "execution_count": 7
        }
      ]
    },
    {
      "cell_type": "code",
      "source": [
        "age[['Leila','Zahra']]"
      ],
      "metadata": {
        "colab": {
          "base_uri": "https://localhost:8080/"
        },
        "id": "jqKBvwdeK-53",
        "outputId": "7c5f1376-fcdf-4292-de8f-b04389cc45a1"
      },
      "execution_count": 9,
      "outputs": [
        {
          "output_type": "execute_result",
          "data": {
            "text/plain": [
              "Leila    20\n",
              "Zahra    20\n",
              "Name: Age of student, dtype: int8"
            ]
          },
          "metadata": {},
          "execution_count": 9
        }
      ]
    },
    {
      "cell_type": "code",
      "source": [
        "age[0:3]"
      ],
      "metadata": {
        "colab": {
          "base_uri": "https://localhost:8080/"
        },
        "id": "Vz11_YRPK_J4",
        "outputId": "6b539cb8-9d3c-4423-ebe4-c366c42542e7"
      },
      "execution_count": 10,
      "outputs": [
        {
          "output_type": "execute_result",
          "data": {
            "text/plain": [
              "Reza     19\n",
              "Leila    20\n",
              "Zahra    20\n",
              "Name: Age of student, dtype: int8"
            ]
          },
          "metadata": {},
          "execution_count": 10
        }
      ]
    },
    {
      "cell_type": "code",
      "source": [
        "age['Leila':'Akbar']"
      ],
      "metadata": {
        "colab": {
          "base_uri": "https://localhost:8080/"
        },
        "id": "IazdYMx_K_UG",
        "outputId": "439f80a3-fc2f-4951-e5f6-15451aebdb0a"
      },
      "execution_count": 11,
      "outputs": [
        {
          "output_type": "execute_result",
          "data": {
            "text/plain": [
              "Leila    20\n",
              "Zahra    20\n",
              "Akbar    22\n",
              "Name: Age of student, dtype: int8"
            ]
          },
          "metadata": {},
          "execution_count": 11
        }
      ]
    },
    {
      "cell_type": "markdown",
      "source": [
        "# **Conditional Selection**:"
      ],
      "metadata": {
        "id": "9Arkx_F1LoxU"
      }
    },
    {
      "cell_type": "code",
      "source": [
        "age>21"
      ],
      "metadata": {
        "colab": {
          "base_uri": "https://localhost:8080/"
        },
        "id": "en91C6wQLnrn",
        "outputId": "cbb4fc5c-2889-40dd-c1a5-6bde5a22931f"
      },
      "execution_count": 12,
      "outputs": [
        {
          "output_type": "execute_result",
          "data": {
            "text/plain": [
              "Reza     False\n",
              "Leila    False\n",
              "Zahra    False\n",
              "Akbar     True\n",
              "Amir      True\n",
              "Name: Age of student, dtype: bool"
            ]
          },
          "metadata": {},
          "execution_count": 12
        }
      ]
    },
    {
      "cell_type": "code",
      "source": [
        "age[(age<24) & (age>age.mean())]"
      ],
      "metadata": {
        "colab": {
          "base_uri": "https://localhost:8080/"
        },
        "id": "MCV1KNUAK_bd",
        "outputId": "84b8dd93-00f7-4590-e8a7-652c52fa0a5c"
      },
      "execution_count": 14,
      "outputs": [
        {
          "output_type": "execute_result",
          "data": {
            "text/plain": [
              "Akbar    22\n",
              "Amir     23\n",
              "Name: Age of student, dtype: int8"
            ]
          },
          "metadata": {},
          "execution_count": 14
        }
      ]
    },
    {
      "cell_type": "code",
      "source": [
        "age[::-1]"
      ],
      "metadata": {
        "colab": {
          "base_uri": "https://localhost:8080/"
        },
        "id": "-gJfkiq5K_r2",
        "outputId": "1d584a11-edb7-41c0-c242-50d52576a1db"
      },
      "execution_count": 15,
      "outputs": [
        {
          "output_type": "execute_result",
          "data": {
            "text/plain": [
              "Amir     23\n",
              "Akbar    22\n",
              "Zahra    20\n",
              "Leila    20\n",
              "Reza     19\n",
              "Name: Age of student, dtype: int8"
            ]
          },
          "metadata": {},
          "execution_count": 15
        }
      ]
    },
    {
      "cell_type": "code",
      "source": [
        "age.sort_values(ascending=False)"
      ],
      "metadata": {
        "colab": {
          "base_uri": "https://localhost:8080/"
        },
        "id": "SBr-10mFMrkp",
        "outputId": "95b85e3c-39a1-4fc1-cadc-2d6fe96c59bc"
      },
      "execution_count": 18,
      "outputs": [
        {
          "output_type": "execute_result",
          "data": {
            "text/plain": [
              "Amir     23\n",
              "Akbar    22\n",
              "Leila    20\n",
              "Zahra    20\n",
              "Reza     19\n",
              "Name: Age of student, dtype: int8"
            ]
          },
          "metadata": {},
          "execution_count": 18
        }
      ]
    },
    {
      "cell_type": "code",
      "source": [],
      "metadata": {
        "id": "AwJ5Bu3pMrd1"
      },
      "execution_count": null,
      "outputs": []
    },
    {
      "cell_type": "code",
      "source": [],
      "metadata": {
        "id": "BXAh1TeFMrZC"
      },
      "execution_count": null,
      "outputs": []
    },
    {
      "cell_type": "code",
      "source": [],
      "metadata": {
        "id": "rs3ahFOuMrPc"
      },
      "execution_count": null,
      "outputs": []
    },
    {
      "cell_type": "code",
      "source": [],
      "metadata": {
        "id": "8iWMStZ_MrDy"
      },
      "execution_count": null,
      "outputs": []
    },
    {
      "cell_type": "code",
      "source": [],
      "metadata": {
        "id": "1WNC2mvBMq17"
      },
      "execution_count": null,
      "outputs": []
    }
  ]
}